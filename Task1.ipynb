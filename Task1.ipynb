{
  "nbformat": 4,
  "nbformat_minor": 0,
  "metadata": {
    "colab": {
      "provenance": []
    },
    "kernelspec": {
      "name": "python3",
      "display_name": "Python 3"
    },
    "language_info": {
      "name": "python"
    }
  },
  "cells": [
    {
      "cell_type": "code",
      "execution_count": 1,
      "metadata": {
        "colab": {
          "base_uri": "https://localhost:8080/"
        },
        "id": "7N7P_rEJ2m_k",
        "outputId": "d86a708c-7a1d-40b1-8510-ecfb42e549c9"
      },
      "outputs": [
        {
          "output_type": "stream",
          "name": "stdout",
          "text": [
            "✅ Dataset cleaned and saved as 'cleaned_marketing_campaign.csv'\n"
          ]
        },
        {
          "output_type": "stream",
          "name": "stderr",
          "text": [
            "/tmp/ipython-input-1-942136675.py:5: FutureWarning: A value is trying to be set on a copy of a DataFrame or Series through chained assignment using an inplace method.\n",
            "The behavior will change in pandas 3.0. This inplace method will never work because the intermediate object on which we are setting values always behaves as a copy.\n",
            "\n",
            "For example, when doing 'df[col].method(value, inplace=True)', try using 'df.method({col: value}, inplace=True)' or df[col] = df[col].method(value) instead, to perform the operation inplace on the original object.\n",
            "\n",
            "\n",
            "  df['Income'].fillna(df['Income'].median(), inplace=True)\n"
          ]
        }
      ],
      "source": [
        "import pandas as pd\n",
        "\n",
        "df = pd.read_csv(\"marketing_campaign.csv\", sep=\"\\t\")\n",
        "\n",
        "df['Income'].fillna(df['Income'].median(), inplace=True)\n",
        "\n",
        "df['Dt_Customer'] = pd.to_datetime(df['Dt_Customer'], dayfirst=True)\n",
        "\n",
        "df['Education'] = df['Education'].str.strip().str.lower()\n",
        "df['Marital_Status'] = df['Marital_Status'].str.strip().str.lower()\n",
        "\n",
        "df.columns = df.columns.str.strip().str.lower().str.replace(\" \", \"_\")\n",
        "\n",
        "df.drop_duplicates(inplace=True)\n",
        "\n",
        "df['year_birth'] = df['year_birth'].astype(int)\n",
        "df['recency'] = df['recency'].astype(int)\n",
        "\n",
        "df.to_csv(\"cleaned_marketing_campaign.csv\", index=False)\n",
        "\n",
        "print(\"✅ Dataset cleaned and saved as 'cleaned_marketing_campaign.csv'\")\n"
      ]
    }
  ]
}